{
 "cells": [
  {
   "cell_type": "markdown",
   "metadata": {},
   "source": [
    "# ForceField Parameter Deduplication\n",
    "## Authors: Connor Davel, Jeffrey Wagner\n",
    "## Date Created: April 21, 2021\n",
    "One inefficiency in the current forcefields is redudant parameters. These add an estimated 10 to 20% loading time during the very slow `ForceField.create_openmm_system()` function, not to mention any other function that need to load and parse the file. Since searching and operating on large forcefield files tends to be more than linearly complex, it is important that the user is given the shortest forcefield parameter file possible while also maintaining the same results no matter the chemical environment. The goal of this notebook is to reduce the size of `test.offxml` and produce the same energy calculations for the ALA_ALA protein and t4 protein files. \n",
    "\n",
    "## Forcefield reduction methods\n",
    "Any two identical smirks should have the same parameters, so one of these smirks can be safely removed without changing how the system is parameterized. For example, the first two bonds in `test.offxml` are equivalent:\n",
    "\n",
    "`<Bond smirks=\"[H][C@@]([C]=O)([C:1]([H:2])([H])[S])[N][H]\" length=\"1.09 * angstrom\" k=\"680.0 * angstrom**-2 * mole**-1 * kilocalorie\" id=\"A14SB-MainChain_CYX-2C_H1\"></Bond>`\n",
    "\n",
    "`<Bond smirks=\"[H][C@@]([C]=O)([C:1]([H])([H:2])[S])[N][H]\" length=\"1.09 * angstrom\" k=\"680.0 * angstrom**-2 * mole**-1 * kilocalorie\" id=\"A14SB-MainChain_CYX-2C_H1\"></Bond>`\n",
    "\n",
    "The only difference between the two smirks is which identical hydrogen is mapped. Changing the mapping or which specific hydrogen is bonded to carbon does not change the structure or the bond values (length, k, etc.). Identical smirks are recognized with two methods:\n",
    "\n",
    "1) MCS substructure searching with as custom isotope search function\n",
    "\n",
    "2) isomorphism test adapted from `Molecule.are_isomorphic()` (Same method but used RDKit instead of Molecule)\n",
    "\n",
    "Throughout the notebook, I avoided using the `Molecule` or `FrozenMolecule` since these classes do not play nicely with wild-type bonds. I used RDKit for the MCS seraching and isomorphism, so free users can use this notebook. \n",
    "\t\t"
   ]
  },
  {
   "cell_type": "markdown",
   "metadata": {},
   "source": [
    "## Importing dependences and loading forcefield"
   ]
  },
  {
   "cell_type": "code",
   "execution_count": 1,
   "metadata": {},
   "outputs": [
    {
     "name": "stderr",
     "output_type": "stream",
     "text": [
      "Warning: importing 'simtk.openmm' is deprecated.  Import 'openmm' instead.\n"
     ]
    }
   ],
   "source": [
    "from openff.toolkit.topology import Molecule, Topology\n",
    "from openff.toolkit.typing.engines.smirnoff import ForceField\n",
    "import parmed as ParmEd\n",
    "from simtk import openmm\n",
    "from simtk.openmm import app, unit, XmlSerializer, LangevinIntegrator\n",
    "from simtk.openmm.app import NoCutoff, HBonds\n",
    "import os, sys\n",
    "import itertools\n",
    "import time\n",
    "from pathlib import Path\n",
    "from rdkit import Chem\n",
    "from rdkit.Chem import rdFMCS\n",
    "from networkx.algorithms.isomorphism import GraphMatcher\n",
    "\n",
    "cdir = Path.cwd()\n",
    "sys.path.append(str(cdir.parents[0]))\n",
    "from utils import fix_carboxylate_bond_orders\n",
    "from amberimpropertorsionhandler import AmberImproperTorsionHandler"
   ]
  },
  {
   "cell_type": "code",
   "execution_count": 1,
   "metadata": {},
   "outputs": [
    {
     "name": "stderr",
     "output_type": "stream",
     "text": [
      "Warning: importing 'simtk.openmm' is deprecated.  Import 'openmm' instead.\n"
     ]
    }
   ],
   "source": [
    "# create the forcefield\n",
    "ff = ForceField('test.offxml', 'test_backbone.offxml')"
   ]
  },
  {
   "cell_type": "markdown",
   "metadata": {},
   "source": [
    "## Define function that will compare smirks:\n",
    "'smirks_are_equivalent`: returns True if smirks are chemically equivalent, False else\n",
    "\n",
    "'isomorphic_test`: used by `smirks_are_equivalent` to do the isomorphism test using networkx "
   ]
  },
  {
   "cell_type": "code",
   "execution_count": 2,
   "metadata": {},
   "outputs": [],
   "source": [
    "def qmol_to_networkx(qmol):\n",
    "    try:\n",
    "        import networkx as nx\n",
    "        from networkx.algorithms.isomorphism import GraphMatcher\n",
    "    except ImportError as e:\n",
    "        print(e)\n",
    "        print(\"networkx import error in reduce_forcefield()\")\n",
    "        return None\n",
    "    G = nx.Graph()\n",
    "    for atom in qmol.GetAtoms():\n",
    "        G.add_node(\n",
    "            atom.GetIdx(),\n",
    "            atomic_number=atom.GetAtomicNum(),\n",
    "            is_aromatic=atom.GetIsAromatic(),\n",
    "            stereochemistry=atom.GetChiralTag(),\n",
    "            formal_charge=atom.GetFormalCharge(),\n",
    "            atom_map_num=(atom.GetAtomMapNum() != 0),\n",
    "        )\n",
    "    for bond in qmol.GetBonds():\n",
    "        G.add_edge(\n",
    "            bond.GetBeginAtomIdx(),\n",
    "            bond.GetEndAtomIdx(),\n",
    "            bond_order=bond.GetBondType(),\n",
    "            is_aromatic=bond.GetIsAromatic(),\n",
    "            stereochemistry=bond.GetStereo(),\n",
    "        )\n",
    "    return G\n",
    "\n",
    "\n",
    "def isomorphic_test(mol1_netx, mol2_netx):    \n",
    "    # Build the user defined matching functions\n",
    "    def node_match_func(x, y):\n",
    "        is_equal = x[\"atomic_number\"] == y[\"atomic_number\"]\n",
    "        is_equal &= x[\"is_aromatic\"] == y[\"is_aromatic\"]\n",
    "        is_equal &= x[\"formal_charge\"] == y[\"formal_charge\"]\n",
    "        is_equal &= x[\"stereochemistry\"] == y[\"stereochemistry\"]\n",
    "        is_equal &= x[\"atom_map_num\"] == y[\"atom_map_num\"]\n",
    "        return is_equal\n",
    "\n",
    "    def edge_match_func(x, y):\n",
    "        is_equal = (x[\"is_aromatic\"] == y[\"is_aromatic\"]) or (\n",
    "            x[\"bond_order\"] == y[\"bond_order\"]\n",
    "        )\n",
    "        is_equal &= x[\"stereochemistry\"] == y[\"stereochemistry\"]\n",
    "        return is_equal\n",
    "\n",
    "    GM = GraphMatcher(\n",
    "        mol1_netx, mol2_netx, node_match=node_match_func, edge_match=edge_match_func\n",
    "    )\n",
    "    isomorphic = GM.is_isomorphic()\n",
    "\n",
    "    return isomorphic\n",
    "\n",
    "smirks2iso_qmol = dict()\n",
    "smirks2mol_netx = dict()\n",
    "\n",
    "\n",
    "def smirks_are_equivalent(smirks1, smirks2, error_flagging=False, method='all'):\n",
    "    \"\"\"\n",
    "    sm1: smirks string 1\n",
    "    sm2: smirks string 2\n",
    "    error_flagging: False to return only bool result, True to print basis debugging info\n",
    "    method: MCS for maximum substructure comparison,\n",
    "            ISO for isomorphism comparison,\n",
    "            all to use all comparison methods at once\n",
    "    returns: True if sm1 and sm2 are equivalent, False else\n",
    "    \"\"\"\n",
    "\n",
    "    mcs_equivalent = True\n",
    "    isomorph_equivalent = True\n",
    "    if method == 'MCS' or method == 'all':\n",
    "        # implement maximum common substructure check\n",
    "        mapped_idx_multiple = 300 # arbitrary multiple to distiguish mapped atoms\n",
    "        \n",
    "        if smirks1 not in smirks2iso_qmol:\n",
    "            qmol1 = Chem.MolFromSmarts(smirks1)\n",
    "            for at_idx, at in enumerate(qmol1.GetAtoms()):\n",
    "                map_num = at.GetAtomMapNum()\n",
    "                if map_num != 0:\n",
    "                    at.SetIsotope(mapped_idx_multiple * map_num + int(at.GetAtomicNum()))\n",
    "                else:\n",
    "                    at.SetIsotope(int(at.GetAtomicNum()))\n",
    "                    pass\n",
    "            smirks2iso_qmol[smirks1] = qmol1\n",
    "\n",
    "\n",
    "        if smirks2 not in smirks2iso_qmol:\n",
    "            qmol2 = Chem.MolFromSmarts(smirks2)\n",
    "            for at_idx, at in enumerate(qmol2.GetAtoms()):\n",
    "                map_num = at.GetAtomMapNum()\n",
    "                if map_num != 0:\n",
    "                    at.SetIsotope(mapped_idx_multiple * map_num + int(at.GetAtomicNum()))\n",
    "                else:\n",
    "                    at.SetIsotope(int(at.GetAtomicNum()))\n",
    "                    pass\n",
    "            smirks2iso_qmol[smirks2] = qmol2\n",
    "\n",
    "        qmol1 = smirks2iso_qmol[smirks1]            \n",
    "        qmol2 = smirks2iso_qmol[smirks2]\n",
    "        if qmol1.GetNumAtoms() != qmol2.GetNumAtoms():\n",
    "            return False\n",
    "        \n",
    "        res=rdFMCS.FindMCS([qmol1, qmol2], atomCompare=(rdFMCS.AtomCompare.CompareIsotopes))\n",
    "        # is the mcs structure just as large as the two smarts structures\n",
    "        mcs_equivalent = (res.numAtoms == qmol1.GetNumAtoms() == qmol2.GetNumAtoms())\n",
    "    if method == 'ISO' or method == 'all':\n",
    "        # implement isomorphism check similar to Molecule.are_isomorphic()\n",
    "        if smirks1 not in smirks2mol_netx:\n",
    "            qmol1 = Chem.MolFromSmarts(smirks1)\n",
    "            mol1_netx = qmol_to_networkx(qmol1)\n",
    "            smirks2mol_netx[smirks1] = mol1_netx\n",
    "        if smirks2 not in smirks2mol_netx:\n",
    "            qmol2 = Chem.MolFromSmarts(smirks2)\n",
    "            mol2_netx = qmol_to_networkx(qmol2)\n",
    "            smirks2mol_netx[smirks2] = mol2_netx\n",
    "        mol1_netx = smirks2mol_netx[smirks1]\n",
    "        mol2_netx = smirks2mol_netx[smirks2]\n",
    "\n",
    "        isomorph_equivalent = isomorphic_test(mol1_netx, mol2_netx)\n",
    "\n",
    "\n",
    "    if error_flagging:\n",
    "        if mcs_equivalent and isomorph_equivalent:\n",
    "            print(\"smirks found to be equivalent\")\n",
    "        else:\n",
    "            print(\"smirks found not to be equivalent\")\n",
    "            print(f\"\\tmcs_equivalent: {mcs_equivalent}\\tisomorph_equivalent: {isomorph_equivalent}\")\n",
    "            print(\"Mass info compared by rdFMCS:\")\n",
    "            print([at.GetIsotope() for at in qmol1.GetAtoms()])\n",
    "            print([at.GetIsotope() for at in qmol2.GetAtoms()])\n",
    "            print(\"res map:\")\n",
    "            print(res.smartsString)\n",
    "\n",
    "    return (mcs_equivalent and isomorph_equivalent)"
   ]
  },
  {
   "cell_type": "markdown",
   "metadata": {},
   "source": [
    "## Delete all identical parameters \n",
    "\n",
    "This step takes a considerable amount of time. Skip this step and use the provided `reduced.offxml` if you do not want to be sitting around for a few hours. This step could be completed in less than a minute if you assume that only parameters right next to each other will ever return as equivalent. However, testing showed that comparing over the entire list of smirks caught a few extra redundant parameters than comparing only adjacent smirks. "
   ]
  },
  {
   "cell_type": "code",
   "execution_count": 18,
   "metadata": {},
   "outputs": [
    {
     "name": "stdout",
     "output_type": "stream",
     "text": [
      "The snakeviz extension is already loaded. To reload it, use:\n",
      "  %reload_ext snakeviz\n"
     ]
    }
   ],
   "source": [
    "%load_ext snakeviz"
   ]
  },
  {
   "cell_type": "code",
   "execution_count": 4,
   "metadata": {
    "scrolled": true,
    "tags": []
   },
   "outputs": [
    {
     "name": "stderr",
     "output_type": "stream",
     "text": [
      "100%|██████████| 1293/1293 [02:55<00:00,  7.35it/s]\n",
      "  0%|          | 0/2420 [00:00<?, ?it/s]"
     ]
    },
    {
     "name": "stdout",
     "output_type": "stream",
     "text": [
      "Kept 1039 params, removed 254\n"
     ]
    },
    {
     "name": "stderr",
     "output_type": "stream",
     "text": [
      "100%|██████████| 2420/2420 [07:06<00:00,  5.67it/s] \n",
      "  0%|          | 0/3760 [00:00<?, ?it/s]"
     ]
    },
    {
     "name": "stdout",
     "output_type": "stream",
     "text": [
      "Kept 1943 params, removed 477\n"
     ]
    },
    {
     "name": "stderr",
     "output_type": "stream",
     "text": [
      "100%|██████████| 3760/3760 [12:22<00:00,  5.06it/s] \n",
      "  0%|          | 0/371 [00:00<?, ?it/s]"
     ]
    },
    {
     "name": "stdout",
     "output_type": "stream",
     "text": [
      "Kept 2673 params, removed 1087\n"
     ]
    },
    {
     "name": "stderr",
     "output_type": "stream",
     "text": [
      "100%|██████████| 371/371 [00:25<00:00, 14.76it/s] \n",
      "  7%|▋         | 5/74 [00:00<00:01, 40.76it/s]"
     ]
    },
    {
     "name": "stdout",
     "output_type": "stream",
     "text": [
      "Kept 362 params, removed 9\n"
     ]
    },
    {
     "name": "stderr",
     "output_type": "stream",
     "text": [
      "100%|██████████| 74/74 [00:00<00:00, 120.30it/s]\n",
      "  0%|          | 0/1238 [00:00<?, ?it/s]"
     ]
    },
    {
     "name": "stdout",
     "output_type": "stream",
     "text": [
      "Kept 74 params, removed 0\n"
     ]
    },
    {
     "name": "stderr",
     "output_type": "stream",
     "text": [
      "100%|██████████| 1238/1238 [04:06<00:00,  5.03it/s]\n"
     ]
    },
    {
     "name": "stdout",
     "output_type": "stream",
     "text": [
      "Kept 977 params, removed 261\n"
     ]
    }
   ],
   "source": [
    "#%%snakeviz\n",
    "import tqdm \n",
    "# attempt to find redundant params in all registered handlers \n",
    "for parameter_tag in ff.registered_parameter_handlers:\n",
    "    # skip if the registered paramter does not have many parameters \n",
    "    if len(ff[parameter_tag].parameters) <= 1:\n",
    "        continue\n",
    "    # dictionary to store redundant parameters to later delete\n",
    "    redundant_params = {'id': [], 'smirks': []}\n",
    "\n",
    "    # will start from the bottom of the list and move upwards, since this is how parameterization generally works \n",
    "    for i in tqdm.tqdm(range(len(ff[parameter_tag].parameters) - 1, -1, -1)): # decrement i from max param down to 0\n",
    "    #for i in tqdm.tqdm(range(70, -1, -1)): # decrement i from max param down to 0\n",
    "\n",
    "        # If this parameter is already marked as redundant, don't bother scanning it again\n",
    "        if i in redundant_params['id']:\n",
    "            continue\n",
    "\n",
    "        param = ff[parameter_tag].parameters[i]\n",
    "        param_dict = param.to_dict()\n",
    "        \n",
    "        # compare to all other parameters in the list\n",
    "        for j in range(i-1, -1, -1):  # compare to all params that are above i \n",
    "            if j in redundant_params['id']:\n",
    "                continue\n",
    "\n",
    "            previous = ff[parameter_tag].parameters[j]\n",
    "            previous_dict = previous.to_dict()\n",
    "            if param_dict.keys() != previous_dict.keys():\n",
    "                continue\n",
    "            # check if all params are equal\n",
    "            equal_values = False\n",
    "            for key in param_dict:\n",
    "                if key in ['id', 'smirks']:\n",
    "                    continue\n",
    "                if param_dict[key] != previous_dict[key]:\n",
    "                    equal_values = False\n",
    "                    break\n",
    "                else:\n",
    "                    equal_values = True\n",
    "            \n",
    "            #try:\n",
    "            comparison_method = \"all\"\n",
    "            # this is the actual comparison:\n",
    "            if smirks_are_equivalent(param_dict['smirks'], previous_dict['smirks'], method=comparison_method):\n",
    "                if equal_values:\n",
    "                    redundant_params['id'].append(j)\n",
    "                    redundant_params['smirks'].append(previous_dict['smirks'])\n",
    "                    #print(\"removed \", j)\n",
    "                else:\n",
    "                    print(f\"equivalent smirks but different parameter info for: \\\n",
    "                            \\n {param_dict['smirks']} \\n {previous_dict['smirks']} \\n \\\n",
    "                            this is considered a critical error\")\n",
    "                    smirks_are_equivalent(param_dict['smirks'], previous_dict['smirks'], error_flagging=True, method=comparison_method)\n",
    "            #except Exception as e:\n",
    "            #    print(f'some error occured for {param}: {e}')\n",
    "\n",
    "    for smirks in redundant_params['smirks']:\n",
    "        del ff.get_parameter_handler(parameter_tag).parameters[smirks]\n",
    "    print(f\"Kept {len(ff[parameter_tag].parameters)} params, removed \", end=\"\")\n",
    "    print(len(redundant_params['smirks']))\n",
    "    assert(len(redundant_params['smirks']) == len(redundant_params['id']))\n",
    "\n",
    "# will load this file in the testing steps\n",
    "ff.to_file('reduced.offxml')"
   ]
  },
  {
   "cell_type": "markdown",
   "metadata": {},
   "source": [
    "# Run ALA_ALA test"
   ]
  },
  {
   "cell_type": "code",
   "execution_count": 2,
   "metadata": {},
   "outputs": [],
   "source": [
    "# create the forcefield\n",
    "ff = ForceField('reduced.offxml')"
   ]
  },
  {
   "cell_type": "code",
   "execution_count": 3,
   "metadata": {},
   "outputs": [
    {
     "name": "stdout",
     "output_type": "stream",
     "text": [
      "Data from original forcefield\n",
      "Making the topology took: 0.0014030933380126953 seconds\n",
      "\u001b[96mMaking the system took: 1.76125168800354 seconds \u001b[0m\n",
      "Calulating the Energy\n",
      "Calculating OFF energy\n",
      "HarmonicAngleForce 3.4303138256073 kJ/mol\n",
      "HarmonicBondForce 2.315783977508545 kJ/mol\n",
      "NonbondedForce -127.324462890625 kJ/mol\n",
      "PeriodicTorsionForce 63.14761734008789 kJ/mol\n",
      "Energy calculated. Previous step took 0.9140901565551758\n",
      "-58.43072509765625 kJ/mol\n",
      "Data from reduced forcefield\n",
      "Making the topology took: 0.0018029212951660156 seconds\n",
      "\u001b[96mMaking the system took: 1.4673080444335938 seconds \u001b[0m\n",
      "Calulating the Energy\n",
      "Calculating OFF energy\n",
      "HarmonicAngleForce 3.4303138256073 kJ/mol\n",
      "HarmonicBondForce 2.315783977508545 kJ/mol\n",
      "NonbondedForce -127.324462890625 kJ/mol\n",
      "PeriodicTorsionForce 63.14761734008789 kJ/mol\n",
      "Energy calculated. Previous step took 0.8436930179595947\n",
      "-58.43072509765625 kJ/mol\n"
     ]
    },
    {
     "data": {
      "text/plain": [
       "(Quantity(value=-58.43072509765625, unit=kilojoule/mole), 1.4673080444335938)"
      ]
     },
     "execution_count": 3,
     "metadata": {},
     "output_type": "execute_result"
    }
   ],
   "source": [
    "def forcefield_example(forcefield, molecule, amber_struct, verbose=True):\n",
    "    def calc_energy(omm_sys, omm_top, coords):\n",
    "        omm_idx_to_force = {}\n",
    "        for idx, force in enumerate(omm_sys.getForces()):\n",
    "            force.setForceGroup(idx)\n",
    "            omm_idx_to_force[idx] = str(type(force).__name__)\n",
    "\n",
    "        omm_integrator = LangevinIntegrator(300*unit.kelvin,\n",
    "                                    1/unit.picosecond,\n",
    "                                    0.002*unit.picoseconds)\n",
    "        omm_simulation = app.Simulation(omm_top, omm_sys, omm_integrator)\n",
    "        #simulation.context.setPositions(positions)\n",
    "        omm_simulation.context.setPositions(coords)\n",
    "\n",
    "        for group in omm_idx_to_force.keys():\n",
    "            omm_energy = omm_simulation.context.getState(getEnergy=True,groups={group}).getPotentialEnergy()\n",
    "            if verbose:\n",
    "                print(omm_idx_to_force[group], omm_energy)\n",
    "\n",
    "        omm_energy = omm_simulation.context.getState(getEnergy=True).getPotentialEnergy()\n",
    "        return omm_energy\n",
    "    \n",
    "    fix_carboxylate_bond_orders(molecule)\n",
    "    \n",
    "    if verbose:\n",
    "        print(f'Making the topology took: ', end='')\n",
    "    start = time.time()\n",
    "    off_top = Molecule.to_topology(molecule)\n",
    "\n",
    "    if verbose:\n",
    "        print(f'{time.time()-start} seconds')\n",
    "        print(f'{colors.OKCYAN}Making the system took: ', end='')\n",
    "    start = time.time()\n",
    "    off_sys = forcefield.create_openmm_system(molecule.to_topology(), allow_nonintegral_charges=True)\n",
    "    # with open('off_sys.xml','w') as of:\n",
    "    #     of.write(XmlSerializer.serialize(off_sys))\n",
    "    create_system_time = time.time() - start\n",
    "    if verbose:\n",
    "        print(f'{create_system_time} seconds {colors.ENDC}')\n",
    "        print(f'Calulating the Energy')\n",
    "    start = time.time()\n",
    "\n",
    "    if verbose:\n",
    "        print('Calculating OFF energy')\n",
    "    off_energy = calc_energy(off_sys, off_top, amber_struct.positions)\n",
    "    if verbose:\n",
    "        print(f'Energy calculated. Previous step took {time.time()-start}')\n",
    "        print(off_energy)\n",
    "    return off_energy, create_system_time\n",
    "\n",
    "ff = ForceField('test.offxml', 'test_backbone.offxml')\n",
    "ff_reduced = ForceField('reduced.offxml', 'test_backbone.offxml')\n",
    "\n",
    "mol = Molecule.from_file(f'ALA_ALA/ALA_ALA.mol2')\n",
    "amber_struct = ParmEd.load_file('ALA_ALA/ALA_ALA.prmtop', 'ALA_ALA/ALA_ALA.inpcrd')\n",
    "\n",
    "class colors:\n",
    "    OKCYAN = '\\033[96m'\n",
    "    ENDC = '\\033[0m'\n",
    "    BOLD = '\\033[1m'\n",
    "    UNDERLINE = '\\033[4m'\n",
    "\n",
    "print('Data from original forcefield')\n",
    "forcefield_example(ff, mol, amber_struct)\n",
    "print('Data from reduced forcefield')\n",
    "forcefield_example(ff_reduced, mol, amber_struct)"
   ]
  },
  {
   "cell_type": "markdown",
   "metadata": {},
   "source": [
    "# Run T4 protein test"
   ]
  },
  {
   "cell_type": "code",
   "execution_count": 4,
   "metadata": {},
   "outputs": [
    {
     "name": "stdout",
     "output_type": "stream",
     "text": [
      "Data from original forcefield\n",
      "Making the topology took: 0.8132901191711426 seconds\n",
      "\u001b[96mMaking the system took: 73.02712488174438 seconds \u001b[0m\n",
      "Calulating the Energy\n",
      "Calculating OFF energy\n",
      "HarmonicAngleForce 5322.404296875 kJ/mol\n",
      "HarmonicBondForce 2301.833984375 kJ/mol\n",
      "NonbondedForce -27222.87890625 kJ/mol\n",
      "PeriodicTorsionForce 8837.3095703125 kJ/mol\n",
      "Energy calculated. Previous step took 1.6333198547363281\n",
      "-10761.333984375 kJ/mol\n",
      "Data from reduced forcefield\n",
      "Making the topology took: 0.8002049922943115 seconds\n",
      "\u001b[96mMaking the system took: 49.84908103942871 seconds \u001b[0m\n",
      "Calulating the Energy\n",
      "Calculating OFF energy\n",
      "HarmonicAngleForce 5322.404296875 kJ/mol\n",
      "HarmonicBondForce 2301.833984375 kJ/mol\n",
      "NonbondedForce -27222.87890625 kJ/mol\n",
      "PeriodicTorsionForce 8837.3095703125 kJ/mol\n",
      "Energy calculated. Previous step took 0.8938288688659668\n",
      "-10761.333984375 kJ/mol\n"
     ]
    },
    {
     "data": {
      "text/plain": [
       "(Quantity(value=-10761.333984375, unit=kilojoule/mole), 49.84908103942871)"
      ]
     },
     "execution_count": 4,
     "metadata": {},
     "output_type": "execute_result"
    }
   ],
   "source": [
    "mol = Molecule.from_file(f't4.mol2')\n",
    "amber_struct = ParmEd.load_file('t4.prmtop', 't4.inpcrd')\n",
    "\n",
    "print('Data from original forcefield')\n",
    "forcefield_example(ff, mol, amber_struct)\n",
    "print('Data from reduced forcefield')\n",
    "forcefield_example(ff_reduced, mol, amber_struct)"
   ]
  },
  {
   "cell_type": "markdown",
   "metadata": {},
   "source": [
    "# Test energies for all tripeptide permutations\n",
    "This is meant to catch any forcefield differences that could result in energy differences. Hypothetically, if the systems are parameterized in the exact same way, both forcefields should return about the same energy. "
   ]
  },
  {
   "cell_type": "code",
   "execution_count": 13,
   "metadata": {},
   "outputs": [
    {
     "name": "stdout",
     "output_type": "stream",
     "text": [
      "50\n"
     ]
    },
    {
     "ename": "KeyboardInterrupt",
     "evalue": "",
     "output_type": "error",
     "traceback": [
      "\u001b[0;31m---------------------------------------------------------------------------\u001b[0m",
      "\u001b[0;31mKeyboardInterrupt\u001b[0m                         Traceback (most recent call last)",
      "\u001b[0;32m<ipython-input-13-b4c4ffd4374b>\u001b[0m in \u001b[0;36m<module>\u001b[0;34m\u001b[0m\n\u001b[1;32m     48\u001b[0m             \u001b[0moff_top\u001b[0m \u001b[0;34m=\u001b[0m \u001b[0mMolecule\u001b[0m\u001b[0;34m.\u001b[0m\u001b[0mto_topology\u001b[0m\u001b[0;34m(\u001b[0m\u001b[0mmol\u001b[0m\u001b[0;34m)\u001b[0m\u001b[0;34m\u001b[0m\u001b[0;34m\u001b[0m\u001b[0m\n\u001b[1;32m     49\u001b[0m             \u001b[0;31m# the following two systems are compared to ensure the same parameterization occurs for each atom/bond/angle/etc.\u001b[0m\u001b[0;34m\u001b[0m\u001b[0;34m\u001b[0m\u001b[0;34m\u001b[0m\u001b[0m\n\u001b[0;32m---> 50\u001b[0;31m             \u001b[0moff_sys\u001b[0m \u001b[0;34m=\u001b[0m \u001b[0mff\u001b[0m\u001b[0;34m.\u001b[0m\u001b[0mcreate_openmm_system\u001b[0m\u001b[0;34m(\u001b[0m\u001b[0mmol\u001b[0m\u001b[0;34m.\u001b[0m\u001b[0mto_topology\u001b[0m\u001b[0;34m(\u001b[0m\u001b[0;34m)\u001b[0m\u001b[0;34m,\u001b[0m \u001b[0mallow_nonintegral_charges\u001b[0m\u001b[0;34m=\u001b[0m\u001b[0;32mTrue\u001b[0m\u001b[0;34m)\u001b[0m\u001b[0;34m\u001b[0m\u001b[0;34m\u001b[0m\u001b[0m\n\u001b[0m\u001b[1;32m     51\u001b[0m             \u001b[0moff_sys_reduced\u001b[0m \u001b[0;34m=\u001b[0m \u001b[0mff_reduced\u001b[0m\u001b[0;34m.\u001b[0m\u001b[0mcreate_openmm_system\u001b[0m\u001b[0;34m(\u001b[0m\u001b[0mmol\u001b[0m\u001b[0;34m.\u001b[0m\u001b[0mto_topology\u001b[0m\u001b[0;34m(\u001b[0m\u001b[0;34m)\u001b[0m\u001b[0;34m,\u001b[0m \u001b[0mallow_nonintegral_charges\u001b[0m\u001b[0;34m=\u001b[0m\u001b[0;32mTrue\u001b[0m\u001b[0;34m)\u001b[0m\u001b[0;34m\u001b[0m\u001b[0;34m\u001b[0m\u001b[0m\n\u001b[1;32m     52\u001b[0m             off_struct = ParmEd.openmm.load_topology(off_top.to_openmm(),\n",
      "\u001b[0;32m~/projects/OpenForceField/openff-toolkit/openff/toolkit/typing/engines/smirnoff/forcefield.py\u001b[0m in \u001b[0;36mcreate_openmm_system\u001b[0;34m(self, topology, **kwargs)\u001b[0m\n\u001b[1;32m   1328\u001b[0m         \u001b[0;31m# Add forces and parameters to the System\u001b[0m\u001b[0;34m\u001b[0m\u001b[0;34m\u001b[0m\u001b[0;34m\u001b[0m\u001b[0m\n\u001b[1;32m   1329\u001b[0m         \u001b[0;32mfor\u001b[0m \u001b[0mparameter_handler\u001b[0m \u001b[0;32min\u001b[0m \u001b[0mparameter_handlers\u001b[0m\u001b[0;34m:\u001b[0m\u001b[0;34m\u001b[0m\u001b[0;34m\u001b[0m\u001b[0m\n\u001b[0;32m-> 1330\u001b[0;31m             \u001b[0mparameter_handler\u001b[0m\u001b[0;34m.\u001b[0m\u001b[0mcreate_force\u001b[0m\u001b[0;34m(\u001b[0m\u001b[0msystem\u001b[0m\u001b[0;34m,\u001b[0m \u001b[0mtopology\u001b[0m\u001b[0;34m,\u001b[0m \u001b[0;34m**\u001b[0m\u001b[0mkwargs\u001b[0m\u001b[0;34m)\u001b[0m\u001b[0;34m\u001b[0m\u001b[0;34m\u001b[0m\u001b[0m\n\u001b[0m\u001b[1;32m   1331\u001b[0m \u001b[0;34m\u001b[0m\u001b[0m\n\u001b[1;32m   1332\u001b[0m         \u001b[0;31m# Let force Handlers do postprocessing\u001b[0m\u001b[0;34m\u001b[0m\u001b[0;34m\u001b[0m\u001b[0;34m\u001b[0m\u001b[0m\n",
      "\u001b[0;32m~/projects/OpenForceField/openff-toolkit/openff/toolkit/typing/engines/smirnoff/parameters.py\u001b[0m in \u001b[0;36mcreate_force\u001b[0;34m(self, system, topology, **kwargs)\u001b[0m\n\u001b[1;32m   3093\u001b[0m         \u001b[0;31m# operates on reference molecules in topology\u001b[0m\u001b[0;34m\u001b[0m\u001b[0;34m\u001b[0m\u001b[0;34m\u001b[0m\u001b[0m\n\u001b[1;32m   3094\u001b[0m         \u001b[0;31m# but gives back matches for atoms for instance molecules\u001b[0m\u001b[0;34m\u001b[0m\u001b[0;34m\u001b[0m\u001b[0;34m\u001b[0m\u001b[0m\n\u001b[0;32m-> 3095\u001b[0;31m         \u001b[0mtorsion_matches\u001b[0m \u001b[0;34m=\u001b[0m \u001b[0mself\u001b[0m\u001b[0;34m.\u001b[0m\u001b[0mfind_matches\u001b[0m\u001b[0;34m(\u001b[0m\u001b[0mtopology\u001b[0m\u001b[0;34m)\u001b[0m\u001b[0;34m\u001b[0m\u001b[0;34m\u001b[0m\u001b[0m\n\u001b[0m\u001b[1;32m   3096\u001b[0m \u001b[0;34m\u001b[0m\u001b[0m\n\u001b[1;32m   3097\u001b[0m         \u001b[0;32mfor\u001b[0m \u001b[0;34m(\u001b[0m\u001b[0matom_indices\u001b[0m\u001b[0;34m,\u001b[0m \u001b[0mtorsion_match\u001b[0m\u001b[0;34m)\u001b[0m \u001b[0;32min\u001b[0m \u001b[0mtorsion_matches\u001b[0m\u001b[0;34m.\u001b[0m\u001b[0mitems\u001b[0m\u001b[0;34m(\u001b[0m\u001b[0;34m)\u001b[0m\u001b[0;34m:\u001b[0m\u001b[0;34m\u001b[0m\u001b[0;34m\u001b[0m\u001b[0m\n",
      "\u001b[0;32m~/projects/OpenForceField/openff-toolkit/openff/toolkit/typing/engines/smirnoff/parameters.py\u001b[0m in \u001b[0;36mfind_matches\u001b[0;34m(self, entity, unique)\u001b[0m\n\u001b[1;32m   2164\u001b[0m         \u001b[0;31m# TODO: Right now, this method is only ever called with an entity that is a Topology.\u001b[0m\u001b[0;34m\u001b[0m\u001b[0;34m\u001b[0m\u001b[0;34m\u001b[0m\u001b[0m\n\u001b[1;32m   2165\u001b[0m         \u001b[0;31m#  Should we reduce its scope and have a check here to make sure entity is a Topology?\u001b[0m\u001b[0;34m\u001b[0m\u001b[0;34m\u001b[0m\u001b[0;34m\u001b[0m\u001b[0m\n\u001b[0;32m-> 2166\u001b[0;31m         \u001b[0;32mreturn\u001b[0m \u001b[0mself\u001b[0m\u001b[0;34m.\u001b[0m\u001b[0m_find_matches\u001b[0m\u001b[0;34m(\u001b[0m\u001b[0mentity\u001b[0m\u001b[0;34m,\u001b[0m \u001b[0munique\u001b[0m\u001b[0;34m=\u001b[0m\u001b[0munique\u001b[0m\u001b[0;34m)\u001b[0m\u001b[0;34m\u001b[0m\u001b[0;34m\u001b[0m\u001b[0m\n\u001b[0m\u001b[1;32m   2167\u001b[0m \u001b[0;34m\u001b[0m\u001b[0m\n\u001b[1;32m   2168\u001b[0m     def _find_matches(\n",
      "\u001b[0;32m~/projects/OpenForceField/openff-toolkit/openff/toolkit/typing/engines/smirnoff/parameters.py\u001b[0m in \u001b[0;36m_find_matches\u001b[0;34m(self, entity, transformed_dict_cls, unique)\u001b[0m\n\u001b[1;32m   2202\u001b[0m             \u001b[0mmatches_for_this_type\u001b[0m \u001b[0;34m=\u001b[0m \u001b[0;34m{\u001b[0m\u001b[0;34m}\u001b[0m\u001b[0;34m\u001b[0m\u001b[0;34m\u001b[0m\u001b[0m\n\u001b[1;32m   2203\u001b[0m \u001b[0;34m\u001b[0m\u001b[0m\n\u001b[0;32m-> 2204\u001b[0;31m             for environment_match in entity.chemical_environment_matches(\n\u001b[0m\u001b[1;32m   2205\u001b[0m                 \u001b[0mparameter_type\u001b[0m\u001b[0;34m.\u001b[0m\u001b[0msmirks\u001b[0m\u001b[0;34m,\u001b[0m\u001b[0;34m\u001b[0m\u001b[0;34m\u001b[0m\u001b[0m\n\u001b[1;32m   2206\u001b[0m                 \u001b[0munique\u001b[0m\u001b[0;34m=\u001b[0m\u001b[0munique\u001b[0m\u001b[0;34m,\u001b[0m\u001b[0;34m\u001b[0m\u001b[0;34m\u001b[0m\u001b[0m\n",
      "\u001b[0;32m~/projects/OpenForceField/openff-toolkit/openff/toolkit/topology/topology.py\u001b[0m in \u001b[0;36mchemical_environment_matches\u001b[0;34m(self, query, aromaticity_model, unique, toolkit_registry)\u001b[0m\n\u001b[1;32m   1172\u001b[0m             \u001b[0;31m# This will automatically attempt to match chemically identical atoms in\u001b[0m\u001b[0;34m\u001b[0m\u001b[0;34m\u001b[0m\u001b[0;34m\u001b[0m\u001b[0m\n\u001b[1;32m   1173\u001b[0m             \u001b[0;31m# a canonical order within the Topology\u001b[0m\u001b[0;34m\u001b[0m\u001b[0;34m\u001b[0m\u001b[0;34m\u001b[0m\u001b[0m\n\u001b[0;32m-> 1174\u001b[0;31m             mol_matches = molecule.chemical_environment_matches(\n\u001b[0m\u001b[1;32m   1175\u001b[0m                 \u001b[0msmarts\u001b[0m\u001b[0;34m,\u001b[0m\u001b[0;34m\u001b[0m\u001b[0;34m\u001b[0m\u001b[0m\n\u001b[1;32m   1176\u001b[0m                 \u001b[0munique\u001b[0m\u001b[0;34m=\u001b[0m\u001b[0munique\u001b[0m\u001b[0;34m,\u001b[0m\u001b[0;34m\u001b[0m\u001b[0;34m\u001b[0m\u001b[0m\n",
      "\u001b[0;32m~/projects/OpenForceField/openff-toolkit/openff/toolkit/topology/molecule.py\u001b[0m in \u001b[0;36mchemical_environment_matches\u001b[0;34m(self, query, unique, toolkit_registry)\u001b[0m\n\u001b[1;32m   4831\u001b[0m         \u001b[0;31m# TODO: Do we have to pass along an aromaticity model?\u001b[0m\u001b[0;34m\u001b[0m\u001b[0;34m\u001b[0m\u001b[0;34m\u001b[0m\u001b[0m\n\u001b[1;32m   4832\u001b[0m         \u001b[0;32mif\u001b[0m \u001b[0misinstance\u001b[0m\u001b[0;34m(\u001b[0m\u001b[0mtoolkit_registry\u001b[0m\u001b[0;34m,\u001b[0m \u001b[0mToolkitRegistry\u001b[0m\u001b[0;34m)\u001b[0m\u001b[0;34m:\u001b[0m\u001b[0;34m\u001b[0m\u001b[0;34m\u001b[0m\u001b[0m\n\u001b[0;32m-> 4833\u001b[0;31m             matches = toolkit_registry.call(\n\u001b[0m\u001b[1;32m   4834\u001b[0m                 \u001b[0;34m\"find_smarts_matches\"\u001b[0m\u001b[0;34m,\u001b[0m\u001b[0;34m\u001b[0m\u001b[0;34m\u001b[0m\u001b[0m\n\u001b[1;32m   4835\u001b[0m                 \u001b[0mself\u001b[0m\u001b[0;34m,\u001b[0m\u001b[0;34m\u001b[0m\u001b[0;34m\u001b[0m\u001b[0m\n",
      "\u001b[0;32m~/projects/OpenForceField/openff-toolkit/openff/toolkit/utils/toolkit_registry.py\u001b[0m in \u001b[0;36mcall\u001b[0;34m(self, method_name, raise_exception_types, *args, **kwargs)\u001b[0m\n\u001b[1;32m    360\u001b[0m                 \u001b[0mmethod\u001b[0m \u001b[0;34m=\u001b[0m \u001b[0mgetattr\u001b[0m\u001b[0;34m(\u001b[0m\u001b[0mtoolkit\u001b[0m\u001b[0;34m,\u001b[0m \u001b[0mmethod_name\u001b[0m\u001b[0;34m)\u001b[0m\u001b[0;34m\u001b[0m\u001b[0;34m\u001b[0m\u001b[0m\n\u001b[1;32m    361\u001b[0m                 \u001b[0;32mtry\u001b[0m\u001b[0;34m:\u001b[0m\u001b[0;34m\u001b[0m\u001b[0;34m\u001b[0m\u001b[0m\n\u001b[0;32m--> 362\u001b[0;31m                     \u001b[0;32mreturn\u001b[0m \u001b[0mmethod\u001b[0m\u001b[0;34m(\u001b[0m\u001b[0;34m*\u001b[0m\u001b[0margs\u001b[0m\u001b[0;34m,\u001b[0m \u001b[0;34m**\u001b[0m\u001b[0mkwargs\u001b[0m\u001b[0;34m)\u001b[0m\u001b[0;34m\u001b[0m\u001b[0;34m\u001b[0m\u001b[0m\n\u001b[0m\u001b[1;32m    363\u001b[0m                 \u001b[0;32mexcept\u001b[0m \u001b[0mException\u001b[0m \u001b[0;32mas\u001b[0m \u001b[0me\u001b[0m\u001b[0;34m:\u001b[0m\u001b[0;34m\u001b[0m\u001b[0;34m\u001b[0m\u001b[0m\n\u001b[1;32m    364\u001b[0m                     \u001b[0;32mfor\u001b[0m \u001b[0mexception_type\u001b[0m \u001b[0;32min\u001b[0m \u001b[0mraise_exception_types\u001b[0m\u001b[0;34m:\u001b[0m\u001b[0;34m\u001b[0m\u001b[0;34m\u001b[0m\u001b[0m\n",
      "\u001b[0;32m~/projects/OpenForceField/openff-toolkit/openff/toolkit/utils/openeye_wrapper.py\u001b[0m in \u001b[0;36mfind_smarts_matches\u001b[0;34m(self, molecule, smarts, aromaticity_model, unique)\u001b[0m\n\u001b[1;32m   2382\u001b[0m         \"\"\"\n\u001b[1;32m   2383\u001b[0m         \u001b[0moemol\u001b[0m\u001b[0;34m,\u001b[0m \u001b[0m_\u001b[0m \u001b[0;34m=\u001b[0m \u001b[0mself\u001b[0m\u001b[0;34m.\u001b[0m\u001b[0m_connection_table_to_openeye\u001b[0m\u001b[0;34m(\u001b[0m\u001b[0mmolecule\u001b[0m\u001b[0;34m)\u001b[0m\u001b[0;34m\u001b[0m\u001b[0;34m\u001b[0m\u001b[0m\n\u001b[0;32m-> 2384\u001b[0;31m         return self._find_smarts_matches(\n\u001b[0m\u001b[1;32m   2385\u001b[0m             \u001b[0moemol\u001b[0m\u001b[0;34m,\u001b[0m\u001b[0;34m\u001b[0m\u001b[0;34m\u001b[0m\u001b[0m\n\u001b[1;32m   2386\u001b[0m             \u001b[0msmarts\u001b[0m\u001b[0;34m,\u001b[0m\u001b[0;34m\u001b[0m\u001b[0;34m\u001b[0m\u001b[0m\n",
      "\u001b[0;32m~/projects/OpenForceField/openff-toolkit/openff/toolkit/utils/openeye_wrapper.py\u001b[0m in \u001b[0;36m_find_smarts_matches\u001b[0;34m(oemol, smarts, aromaticity_model, unique)\u001b[0m\n\u001b[1;32m   2341\u001b[0m         \u001b[0mmax_matches\u001b[0m \u001b[0;34m=\u001b[0m \u001b[0;36m0\u001b[0m\u001b[0;34m\u001b[0m\u001b[0;34m\u001b[0m\u001b[0m\n\u001b[1;32m   2342\u001b[0m         \u001b[0msubstructure_search\u001b[0m\u001b[0;34m.\u001b[0m\u001b[0mSetMaxMatches\u001b[0m\u001b[0;34m(\u001b[0m\u001b[0mmax_matches\u001b[0m\u001b[0;34m)\u001b[0m\u001b[0;34m\u001b[0m\u001b[0;34m\u001b[0m\u001b[0m\n\u001b[0;32m-> 2343\u001b[0;31m         \u001b[0moechem\u001b[0m\u001b[0;34m.\u001b[0m\u001b[0mOEPrepareSearch\u001b[0m\u001b[0;34m(\u001b[0m\u001b[0mmol\u001b[0m\u001b[0;34m,\u001b[0m \u001b[0msubstructure_search\u001b[0m\u001b[0;34m)\u001b[0m\u001b[0;34m\u001b[0m\u001b[0;34m\u001b[0m\u001b[0m\n\u001b[0m\u001b[1;32m   2344\u001b[0m         \u001b[0mmatches\u001b[0m \u001b[0;34m=\u001b[0m \u001b[0mlist\u001b[0m\u001b[0;34m(\u001b[0m\u001b[0;34m)\u001b[0m\u001b[0;34m\u001b[0m\u001b[0;34m\u001b[0m\u001b[0m\n\u001b[1;32m   2345\u001b[0m         \u001b[0;32mfor\u001b[0m \u001b[0mmatch\u001b[0m \u001b[0;32min\u001b[0m \u001b[0msubstructure_search\u001b[0m\u001b[0;34m.\u001b[0m\u001b[0mMatch\u001b[0m\u001b[0;34m(\u001b[0m\u001b[0mmol\u001b[0m\u001b[0;34m,\u001b[0m \u001b[0munique\u001b[0m\u001b[0;34m)\u001b[0m\u001b[0;34m:\u001b[0m\u001b[0;34m\u001b[0m\u001b[0;34m\u001b[0m\u001b[0m\n",
      "\u001b[0;32m~/miniconda3/envs/off-tk-dev/lib/python3.8/site-packages/openeye/oechem.py\u001b[0m in \u001b[0;36mOEPrepareSearch\u001b[0;34m(mol, subs, adjustH)\u001b[0m\n\u001b[1;32m  29481\u001b[0m     \u001b[0mOEPrepareSearch\u001b[0m\u001b[0;34m(\u001b[0m\u001b[0mOEMolBase\u001b[0m \u001b[0mmol\u001b[0m\u001b[0;34m,\u001b[0m \u001b[0mOESubSearch\u001b[0m \u001b[0msubs\u001b[0m\u001b[0;34m)\u001b[0m\u001b[0;34m\u001b[0m\u001b[0;34m\u001b[0m\u001b[0m\n\u001b[1;32m  29482\u001b[0m     \"\"\"\n\u001b[0;32m> 29483\u001b[0;31m     \u001b[0;32mreturn\u001b[0m \u001b[0m_oechem\u001b[0m\u001b[0;34m.\u001b[0m\u001b[0mOEPrepareSearch\u001b[0m\u001b[0;34m(\u001b[0m\u001b[0mmol\u001b[0m\u001b[0;34m,\u001b[0m \u001b[0msubs\u001b[0m\u001b[0;34m,\u001b[0m \u001b[0madjustH\u001b[0m\u001b[0;34m)\u001b[0m\u001b[0;34m\u001b[0m\u001b[0;34m\u001b[0m\u001b[0m\n\u001b[0m\u001b[1;32m  29484\u001b[0m \u001b[0;34m\u001b[0m\u001b[0m\n\u001b[1;32m  29485\u001b[0m \u001b[0;32mdef\u001b[0m \u001b[0mOECount\u001b[0m\u001b[0;34m(\u001b[0m\u001b[0;34m*\u001b[0m\u001b[0margs\u001b[0m\u001b[0;34m)\u001b[0m \u001b[0;34m->\u001b[0m \u001b[0;34m\"unsigned int\"\u001b[0m\u001b[0;34m:\u001b[0m\u001b[0;34m\u001b[0m\u001b[0;34m\u001b[0m\u001b[0m\n",
      "\u001b[0;31mKeyboardInterrupt\u001b[0m: "
     ]
    }
   ],
   "source": [
    "os.chdir('/Users/jeffreywagner/projects/OpenForceField/amber-ff-porting/parameter_deduplication')\n",
    "\n",
    "ff = ForceField('test.offxml', 'test_backbone.offxml')\n",
    "ff_reduced = ForceField('reduced.offxml')\n",
    "\n",
    "from openmm.unit.quantity import Quantity\n",
    "import glob\n",
    "os.chdir('..')\n",
    "from malformed_tripeptides import malformed_tripeptides\n",
    "#os.chdir('parameter_deduplication/amber-ff-porting')\n",
    "files = glob.glob('*/*/*mol2')\n",
    "num_files = len(files)\n",
    "progress = 0\n",
    "exceptions = []\n",
    "energy_diff_list = []\n",
    "for folder in ['MainChain', 'CTerminal', 'NTerminal']:\n",
    "    if (folder == 'MainChain'):\n",
    "      resnames = [ 'ALA', 'ARG', 'ASH', 'ASN', 'ASP', 'GLH', 'GLN', 'GLU', 'GLY',  'HID',                      'HIE', 'HIP', 'ILE', 'LEU', 'LYN', 'LYS', 'MET', 'PHE', 'PRO', 'SER',                       'THR', 'TYR', 'VAL', 'TRP',]\n",
    "\n",
    "    else:\n",
    "      resnames = [ 'ALA', 'ARG', 'ASN', 'ASP', 'GLN', 'GLU', 'GLY', 'HID', 'HIE', 'HIP',\n",
    "                   'ILE', 'LEU', 'LYS', 'MET', 'PHE', 'PRO', 'SER', 'THR', 'TYR', 'VAL',                       'TRP', 'CYX' ]\n",
    "    for resa, resb in itertools.permutations(resnames, 2):\n",
    "        try:\n",
    "            if (folder, (resa, resb)) in malformed_tripeptides:\n",
    "                print(f'Skipping {folder}/{resa}_{resb} because it is known to be mis-formatted')\n",
    "                continue\n",
    "            \n",
    "            resname = f'{resa}_{resb}'\n",
    "            prefix = os.path.join(folder, resname, resname)\n",
    "            amber_struct = ParmEd.load_file(prefix + '.prmtop', prefix + '.inpcrd')\n",
    "            mol = Molecule.from_file(prefix + '.mol2')\n",
    "\n",
    "            # energy testing \n",
    "            ff_energy, ff_time = forcefield_example(ff, mol, amber_struct, verbose=False)\n",
    "            ff_reduced_energy, ff_reduced_time = forcefield_example(ff_reduced, mol, amber_struct, verbose=False)\n",
    "            if (abs(ff_energy) < Quantity(0.0001, ff_energy.unit)) or (abs(ff_reduced_energy) < Quantity(0.0001, ff_energy.unit)):\n",
    "                print(f'low energy of {ff_energy} and {ff_reduced_energy} in {prefix}')\n",
    "\n",
    "            difference = abs(ff_energy - ff_reduced_energy)\n",
    "            energy_diff_list.append((ff_energy, ff_reduced_energy, difference, ff_time, ff_reduced_time))\n",
    "            if difference > Quantity(0.0001, difference.unit):\n",
    "                print(f'{colors.BOLD} major energy difference of {difference} in {prefix}  {colors.ENDC}')\n",
    "            elif difference > Quantity(0.00000001, difference.unit):\n",
    "                print(f'minor energy difference of {difference} in {prefix}')\n",
    "            \n",
    "            # parameter matching testing \n",
    "            off_top = Molecule.to_topology(mol)\n",
    "            # the following two systems are compared to ensure the same parameterization occurs for each atom/bond/angle/etc.\n",
    "            off_sys = ff.create_openmm_system(mol.to_topology(), allow_nonintegral_charges=True)\n",
    "            off_sys_reduced = ff_reduced.create_openmm_system(mol.to_topology(), allow_nonintegral_charges=True)\n",
    "            off_struct = ParmEd.openmm.load_topology(off_top.to_openmm(),\n",
    "                                                 off_sys,\n",
    "                                                 amber_struct.positions,\n",
    "                                                 #mol.conformers[0],\n",
    "                                                 box=amber_struct.box)\n",
    "            off_struct_reduced = ParmEd.openmm.load_topology(off_top.to_openmm(),\n",
    "                                                 off_sys,\n",
    "                                                 amber_struct.positions,\n",
    "                                                 #mol.conformers[0],\n",
    "                                                 box=amber_struct.box)\n",
    "            \n",
    "            # Check on bonds\n",
    "            for abond in off_struct_reduced.bonds:\n",
    "                index_found = 0\n",
    "                parms_match = 0\n",
    "                nearmatch = (0.0, 0.0, 0)\n",
    "                for obond in off_struct.bonds:\n",
    "                    if (abond.atom1.idx == obond.atom1.idx and abond.atom2.idx == obond.atom2.idx):\n",
    "                        index_found = 1\n",
    "                    if (abs(abond.type.k   - obond.type.k  ) < 1.0e-4 and\n",
    "                        abs(abond.type.req - obond.type.req) < 1.0e-4):\n",
    "                        parms_match = 1\n",
    "                    else:\n",
    "                        nearmatch = (obond.type.k, obond.type.req, 1)\n",
    "                if (index_found == 0):\n",
    "                    print('BOND %4d %4d - %9.5f %9.5f missing in OFF' % (abond.atom1.idx, abond.atom2.idx,\n",
    "                                                                        abond.type.k, abond.type.req))\n",
    "                elif (parms_match == 0):\n",
    "                    print('BOND %4d %4d - %9.5f %9.5f differs in OFF' % (abond.atom1.idx, abond.atom2.idx,\n",
    "                                                                        abond.type.k, abond.type.req))\n",
    "                    if (nearmatch[2] == 1):\n",
    "                        print('  Nearest match: %9.5f %9.5f' % (nearmatch[0], nearmatch[1]))\n",
    "            # Check on angles\n",
    "            for aangl in off_struct_reduced.angles:\n",
    "                index_found = 0\n",
    "                parms_match = 0\n",
    "                nearmatch = (0.0, 0.0, 0)\n",
    "                for oangl in off_struct.angles:\n",
    "                    if (aangl.atom1.idx == oangl.atom1.idx and aangl.atom2.idx == oangl.atom2.idx and\n",
    "                        aangl.atom3.idx == oangl.atom3.idx):\n",
    "                        index_found = 1\n",
    "                    if (abs(aangl.type.k      - oangl.type.k     ) < 1.0e-4 and\n",
    "                        abs(aangl.type.theteq - oangl.type.theteq) < 1.0e-4):\n",
    "                        parms_match = 1\n",
    "                    else:\n",
    "                        nearmatch = (oangl.type.k, oangl.type.theteq, 1)\n",
    "                if (index_found == 0):\n",
    "                    print('ANGL %4d %4d %4d - %9.5f %9.5f missing in OFF' %\n",
    "                        (aangl.atom1.idx, aangl.atom2.idx, aangl.atom3.idx, aangl.type.k,\n",
    "                        aangl.type.theteq))\n",
    "                elif (parms_match == 0):\n",
    "                    print('ANGL %4d %4d %4d - %9.5f %9.5f differs in OFF' %\n",
    "                        (aangl.atom1.idx, aangl.atom2.idx, aangl.atom3.idx, aangl.type.k,\n",
    "                        aangl.type.theteq))\n",
    "                    if (nearmatch[2] == 1):\n",
    "                        print('  Nearest match:      %9.5f %9.5f' % (nearmatch[0], nearmatch[1]))\n",
    "\n",
    "            # Check on propers\n",
    "            for adihe in off_struct.dihedrals:\n",
    "                #print(adihe.improper)\n",
    "                index_found = 0\n",
    "                parms_match = 0\n",
    "                nearmatch = (0.0, 0.0, 0)\n",
    "                #for odihe in off_struct.dihedrals:\n",
    "                for odihe in off_struct_reduced.dihedrals:\n",
    "                    #print(odihe)\n",
    "                    if (adihe.atom1.idx == odihe.atom1.idx and adihe.atom2.idx == odihe.atom2.idx and\n",
    "                        adihe.atom3.idx == odihe.atom3.idx and adihe.atom4.idx == odihe.atom4.idx):\n",
    "                        index_found = 1\n",
    "                    if (abs(adihe.type.phi_k - (odihe.type.phi_k)) < 1.0e-4 and\n",
    "                        abs(adihe.type.phase - odihe.type.phase) < 1.0e-4):# and\n",
    "                        #adihe.improper == odihe.improper):\n",
    "                        parms_match = 1\n",
    "                    else:\n",
    "                        nearmatch = (odihe.type.phi_k, odihe.type.phase, 1)\n",
    "                    if (adihe.atom1.idx == odihe.atom4.idx and adihe.atom2.idx == odihe.atom3.idx and\n",
    "                        adihe.atom3.idx == odihe.atom2.idx and adihe.atom4.idx == odihe.atom1.idx):\n",
    "                        index_found = 1\n",
    "                    if (abs(adihe.type.phi_k - (odihe.type.phi_k)) < 1.0e-4 and\n",
    "                        abs(adihe.type.phase - odihe.type.phase) < 1.0e-4):# and\n",
    "                        #adihe.improper == odihe.improper):\n",
    "                        parms_match = 1\n",
    "                    else:\n",
    "                        nearmatch = (odihe.type.phi_k, odihe.type.phase, 1)\n",
    "                    # Check for impropers\n",
    "                    aset = {adihe.atom1.idx, adihe.atom2.idx, adihe.atom3.idx, adihe.atom4.idx}\n",
    "                    oset = {odihe.atom1.idx, odihe.atom2.idx, odihe.atom3.idx, odihe.atom4.idx}\n",
    "                    #if (adihe.atom1.idx == odihe.atom1.idx and adihe.atom2.idx == odihe.atom3.idx and\n",
    "                    #    adihe.atom3.idx == odihe.atom2.idx and adihe.atom4.idx == odihe.atom4.idx):\n",
    "                    if len(aset & oset) == 4:\n",
    "                        index_found = 1\n",
    "                    #if (abs(adihe.type.phi_k - (odihe.type.phi_k / 3)) < 1.0e-4 and\n",
    "                    #    abs(adihe.type.phase - odihe.type.phase) < 1.0e-4 and\n",
    "                    #    #adihe.improper == True):\n",
    "                    #    odihe.improper == True):\n",
    "                    if (abs(adihe.type.phi_k - (odihe.type.phi_k)) < 1.0e-4 and\n",
    "                        abs(adihe.type.phase - odihe.type.phase) < 1.0e-4 and\n",
    "                        #adihe.improper == True):\n",
    "                        odihe.improper == True):\n",
    "                        parms_match = 1\n",
    "                    else:\n",
    "                        nearmatch = (odihe.type.phi_k, odihe.type.phase, 1)\n",
    "                #1/0\n",
    "                if (index_found == 0):\n",
    "                    print('DIHE %4d %4d %4d %4d - %9.5f %9.5f missing in OFF' %\n",
    "                        (adihe.atom1.idx, adihe.atom2.idx, adihe.atom3.idx, adihe.atom4.idx,\n",
    "                        adihe.type.phi_k, adihe.type.phase))\n",
    "                elif (parms_match == 0):\n",
    "                    print('DIHE %4d %4d %4d %4d - %9.5f %9.5f differs in OFF' %\n",
    "                        (adihe.atom1.idx, adihe.atom2.idx, adihe.atom3.idx, adihe.atom4.idx,\n",
    "                        adihe.type.phi_k, adihe.type.phase))\n",
    "                    if (nearmatch[2] == 1):\n",
    "                        print('  Nearest match:      %9.5f %9.5f' % (nearmatch[0], nearmatch[1]))\n",
    "\n",
    "            progress += 1\n",
    "            if (progress % 50) == 0:\n",
    "                print(progress)\n",
    "        except Exception as e:\n",
    "            print(e)\n",
    "            exceptions.append(e)\n",
    "\n"
   ]
  },
  {
   "cell_type": "markdown",
   "metadata": {},
   "source": [
    "## Quick visualization of the results"
   ]
  },
  {
   "cell_type": "code",
   "execution_count": 14,
   "metadata": {},
   "outputs": [
    {
     "data": {
      "image/png": "[encoded data removed]",
      "text/plain": [
       "<Figure size 600x400 with 1 Axes>"
      ]
     },
     "metadata": {
      "needs_background": "light"
     },
     "output_type": "display_data"
    }
   ],
   "source": [
    "import matplotlib.pyplot as plt\n",
    "import pandas as pd\n",
    "df = pd.DataFrame(energy_diff_list)\n",
    "df.columns = ['ff_energy', 'ff_reduced_energy', 'difference', 'ff_time', 'ff_reduced_time']\n",
    "df.to_csv(\"temp_energy_test_data.csv\")\n",
    "\n",
    "# convert to floats\n",
    "df['difference'] = df['difference'].apply(lambda x: x._value)\n",
    "\n",
    "fig1 = plt.figure(1, dpi=100)\n",
    "plt.scatter(df.index, df.difference, c='r', s=8)\n",
    "plt.ylabel('energy difference (kJ/mol)')\n",
    "plt.xlabel('test index')\n",
    "plt.title('energy differences between \\\"test.offxml\\\" and \\\"reduced.offxml\\\"')\n",
    "plt.show()\n"
   ]
  },
  {
   "cell_type": "code",
   "execution_count": 15,
   "metadata": {},
   "outputs": [
    {
     "data": {
      "image/png": "[encoded data removed]",
      "text/plain": [
       "<Figure size 600x400 with 1 Axes>"
      ]
     },
     "metadata": {
      "needs_background": "light"
     },
     "output_type": "display_data"
    }
   ],
   "source": [
    "fig2 = plt.figure(2, dpi=100)\n",
    "plt.scatter(df.index, df.ff_time, c='r', s=8, label='original')\n",
    "plt.scatter(df.index, df.ff_reduced_time, c='b', s=8, label='reduced')\n",
    "plt.ylabel('system creation time (sec)')\n",
    "plt.xlabel('test index')\n",
    "plt.title('load time difference between \\\"test.offxml\\\" and \\\"reduced.offxml\\\"')\n",
    "plt.legend()\n",
    "plt.show()"
   ]
  },
  {
   "cell_type": "code",
   "execution_count": 16,
   "metadata": {},
   "outputs": [
    {
     "name": "stdout",
     "output_type": "stream",
     "text": [
      "original average time: 2.73455279639789\n",
      "reduced average time: 2.1324640810489655\n",
      "overall speed up of  22.0 %\n"
     ]
    }
   ],
   "source": [
    "from statistics import mean\n",
    "original_avg_time = float(mean(df.ff_time))\n",
    "reduced_avg_time = float(mean(df.ff_reduced_time))\n",
    "print(f\"original average time: {original_avg_time}\")\n",
    "print(f\"reduced average time: {reduced_avg_time}\")\n",
    "print(f\"overall speed up of {(original_avg_time - reduced_avg_time) / original_avg_time * 100: .1f} %\")\n",
    "\n"
   ]
  },
  {
   "cell_type": "markdown",
   "metadata": {},
   "source": [
    "# Make off_impropers version of FF"
   ]
  },
  {
   "cell_type": "code",
   "execution_count": 32,
   "metadata": {},
   "outputs": [
    {
     "name": "stderr",
     "output_type": "stream",
     "text": [
      "362it [00:00, 1462.90it/s]\n"
     ]
    }
   ],
   "source": [
    "import tqdm\n",
    "os.chdir('/Users/jeffreywagner/projects/OpenForceField/amber-ff-porting/parameter_deduplication')\n",
    "\n",
    "ff = ForceField('reduced.offxml')\n",
    "ih = ff.get_parameter_handler('ImproperTorsions')\n",
    "aih = ff.get_parameter_handler('AmberImproperTorsions')\n",
    "for improper in tqdm.tqdm(aih):\n",
    "    param_dict = improper.to_dict()\n",
    "    smirks = param_dict.pop('smirks')\n",
    "    \n",
    "    atom2_char_index = smirks.index(':2]')\n",
    "    atom3_char_index = smirks.index(':3]')\n",
    "    smirks = smirks[:atom2_char_index] + ':3]' + smirks[atom2_char_index+3:]\n",
    "    smirks = smirks[:atom3_char_index] + ':2]' + smirks[atom3_char_index+3:]\n",
    "    param_dict['smirks'] = smirks\n",
    "    ih.add_parameter(param_dict)\n",
    "\n",
    "ff.deregister_parameter_handler('AmberImproperTorsions')\n",
    "ff.to_file('reduced_off_impropers.offxml')"
   ]
  },
  {
   "cell_type": "code",
   "execution_count": 33,
   "metadata": {},
   "outputs": [
    {
     "name": "stdout",
     "output_type": "stream",
     "text": [
      "Data from reduced forcefield\n",
      "Making the topology took: 0.9088859558105469 seconds\n",
      "\u001b[96mMaking the system took: 50.458407163619995 seconds \u001b[0m\n",
      "Calulating the Energy\n",
      "Calculating OFF energy\n",
      "HarmonicAngleForce 5322.404296875 kJ/mol\n",
      "HarmonicBondForce 2301.833984375 kJ/mol\n",
      "NonbondedForce -27222.87890625 kJ/mol\n",
      "PeriodicTorsionForce 8837.3095703125 kJ/mol\n",
      "Energy calculated. Previous step took 0.9613471031188965\n",
      "-10761.333984375 kJ/mol\n",
      "Data from reduced_off_impropers forcefield\n",
      "Making the topology took: 0.7669050693511963 seconds\n",
      "\u001b[96mMaking the system took: 50.29726481437683 seconds \u001b[0m\n",
      "Calulating the Energy\n",
      "Calculating OFF energy\n",
      "HarmonicAngleForce 5322.404296875 kJ/mol\n",
      "HarmonicBondForce 2301.833984375 kJ/mol\n",
      "PeriodicTorsionForce 8842.875 kJ/mol\n",
      "NonbondedForce -27222.87890625 kJ/mol\n",
      "Energy calculated. Previous step took 1.10243821144104\n",
      "-10755.767578125 kJ/mol\n"
     ]
    },
    {
     "data": {
      "text/plain": [
       "(Quantity(value=-10755.767578125, unit=kilojoule/mole), 50.29726481437683)"
      ]
     },
     "execution_count": 33,
     "metadata": {},
     "output_type": "execute_result"
    }
   ],
   "source": [
    "mol = Molecule.from_file(f't4.mol2')\n",
    "amber_struct = ParmEd.load_file('t4.prmtop', 't4.inpcrd')\n",
    "ff_reduced = ForceField('reduced.offxml')\n",
    "ff_off_impropers = ForceField('reduced_off_impropers.offxml')\n",
    "\n",
    "print('Data from reduced forcefield')\n",
    "forcefield_example(ff_reduced, mol, amber_struct)\n",
    "print('Data from reduced_off_impropers forcefield')\n",
    "forcefield_example(ff_off_impropers, mol, amber_struct)"
   ]
  },
  {
   "cell_type": "code",
   "execution_count": null,
   "metadata": {},
   "outputs": [],
   "source": []
  }
 ],
 "metadata": {
  "kernelspec": {
   "display_name": "Python 3",
   "language": "python",
   "name": "python3"
  },
  "language_info": {
   "codemirror_mode": {
    "name": "ipython",
    "version": 3
   },
   "file_extension": ".py",
   "mimetype": "text/x-python",
   "name": "python",
   "nbconvert_exporter": "python",
   "pygments_lexer": "ipython3",
   "version": "3.8.6"
  }
 },
 "nbformat": 4,
 "nbformat_minor": 2
}
